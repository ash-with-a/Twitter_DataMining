{
  "nbformat": 4,
  "nbformat_minor": 0,
  "metadata": {
    "colab": {
      "name": "Twitter_DM_Python.ipynb",
      "provenance": [],
      "authorship_tag": "ABX9TyOtCyhwE+KbYK66Hw3XrJfW"
    },
    "kernelspec": {
      "name": "python3",
      "display_name": "Python 3"
    },
    "language_info": {
      "name": "python"
    }
  },
  "cells": [
    {
      "cell_type": "code",
      "metadata": {
        "id": "zVZwy-ky1j7T"
      },
      "source": [
        "import tweepy\n",
        "consumer_key = \"oZ5Ab6OgLjJTa9Dg98GiTlZg8\"\n",
        "consumer_secret = \"sZdQNca3LpbPtlIV2gQsdElZM52tbKJeshtKr77vuyKfTjffMX\"\n",
        "access_token = \"808205586-orf4z22o8AdfoNm4V2dAnLKmX39jQJi0c24Y35LY\"\n",
        "access_token_secret = \"TVoc5FD7SnU8E7CP0MDYNAuHghYOYtnSHiOpGnAkURa1N\""
      ],
      "execution_count": 1,
      "outputs": []
    },
    {
      "cell_type": "code",
      "metadata": {
        "id": "rCOBSar91yM-"
      },
      "source": [
        "# Creating the authentication object\n",
        "auth = tweepy.OAuthHandler(consumer_key, consumer_secret)\n",
        "# Setting your access token and secret\n",
        "auth.set_access_token(access_token, access_token_secret)\n",
        "# Creating the API object while passing in auth information\n",
        "api = tweepy.API(auth)"
      ],
      "execution_count": 2,
      "outputs": []
    },
    {
      "cell_type": "code",
      "metadata": {
        "colab": {
          "base_uri": "https://localhost:8080/"
        },
        "id": "0oeBFD4I11dt",
        "outputId": "9ae43e60-1183-426f-f3fa-9b372c3bf7e8"
      },
      "source": [
        "# Using the API object to get tweets from your timeline, and storing it in a variable called public_tweets\n",
        "public_tweets = api.home_timeline()\n",
        "# for each through all tweets pulled\n",
        "for tweet in public_tweets:\n",
        "   # printing the text stored inside the tweet object\n",
        "   print (tweet.text)\n",
        "   print (tweet.created_at)\n",
        "   print (tweet.user.screen_name)\n",
        "   print (tweet.user.location)"
      ],
      "execution_count": 3,
      "outputs": [
        {
          "output_type": "stream",
          "text": [
            "It's not that easy being green. https://t.co/gWMiBApdZl\n",
            "2021-06-10 07:30:11\n",
            "DiscoverMag\n",
            "Between gluons and galaxies\n",
            "This day in 2018, Scotland beat the then No.1 Men's ODI side, England, for the first time in international cricket… https://t.co/mZfBiurro0\n",
            "2021-06-10 07:30:10\n",
            "ICC\n",
            "Dubai\n",
            "I find extremely hilarious , Cong “leaders” talking abt idealogy. \n",
            "\n",
            "Theres ZERO idealogy just opportunism in Rahuls… https://t.co/BNYpKU7hcX\n",
            "2021-06-10 07:21:05\n",
            "rajeev_mp\n",
            "Bengaluru, Karnataka\n",
            "RT @ShamikaRavi: #COVID19India Daily deaths show a major bump. This is due to data reconciliation which is done through an audit/validation…\n",
            "2021-06-10 07:02:53\n",
            "rajeev_mp\n",
            "Bengaluru, Karnataka\n",
            "RT @dcptcr: CT rakesh of traffic unit, central range helping an elderly lady to cross the road. #DelhiPolice #CPDelhi #SplCPtraffic https:/…\n",
            "2021-06-10 06:55:43\n",
            "dtptraffic\n",
            "India, Delhi\n",
            "RT @dcptcr: ASI mafabhai distributed mask amongst poor and differently abled.#DelhiPolice #CPDelhi #SplCPtraffic https://t.co/7OJ8bIiKrE\n",
            "2021-06-10 06:55:39\n",
            "dtptraffic\n",
            "India, Delhi\n",
            "RT @dcptcr: A bike rider slipped near Khyber Paas red light. Ct Munna immediately rushed to him and helped him.#DelhiPolice #CPDelhi #SplCP…\n",
            "2021-06-10 06:55:30\n",
            "dtptraffic\n",
            "India, Delhi\n",
            "RT @dcptcr: A small gesture of help towards an elderly gentleman, Central Range Traffic.#DelhiPolice #CPDelhi #SplCPtraffic https://t.co/K7…\n",
            "2021-06-10 06:55:27\n",
            "dtptraffic\n",
            "India, Delhi\n",
            "RT @dcptcr: When no one was looking no one was caring , this elderly lady was waiting hesitatingly to cross a busy road , Hc Rajkamal traff…\n",
            "2021-06-10 06:53:46\n",
            "dtptraffic\n",
            "India, Delhi\n",
            "RT @DelhiPolice: @CPDelhi Sh SN Shrivastava recounts transformation of #DelhiPolice as a force of compassion with newfound identity and pur…\n",
            "2021-06-10 06:53:19\n",
            "dtptraffic\n",
            "India, Delhi\n",
            "RT @IGuruPrakash: The deafening silence of the Congress party &amp; the establishment on the heinous murder of a 21 year old Dalit Youth, Vinod…\n",
            "2021-06-10 06:40:20\n",
            "rajeev_mp\n",
            "Bengaluru, Karnataka\n",
            "Four wickets from Zaheer Khan and a Rohit Sharma fifty 👏 https://t.co/6fLpIXmWpb\n",
            "2021-06-10 06:31:00\n",
            "ICC\n",
            "Dubai\n",
            "To say these dinosaurs were ‘big’ is an understatement. https://t.co/Hj2TlmcH0a\n",
            "2021-06-10 06:30:11\n",
            "DiscoverMag\n",
            "Between gluons and galaxies\n",
            "🗓️ Mark your calendars – Sunday, 13 June!\n",
            "\n",
            " Ten greats of Test cricket to be inducted into the #ICCHallOfFame 🎖️\n",
            "\n",
            "T… https://t.co/Ylh6IuWC0J\n",
            "2021-06-10 06:20:34\n",
            "ICC\n",
            "Dubai\n",
            "Whatever travel looks like to you, these photos reveal the dazzling variety of ways humans move through the world—a… https://t.co/CDzmmmtiac\n",
            "2021-06-10 06:09:04\n",
            "NatGeo\n",
            "Global\n",
            "RT @FlagsOfHonour: Nineteen years ago on 10 June in 2002, Lt Abhay Pareek, 69 FD Regt &amp; Rfn Palendu Rai 6/11 Gorkha Rifles made the supreme…\n",
            "2021-06-10 06:03:07\n",
            "rajeev_mp\n",
            "Bengaluru, Karnataka\n",
            "RT @BJP4India: ''The progress of a society is incomplete without empowerment of women.''\n",
            "\n",
            "For the last 7 years, easing women’s access to he…\n",
            "2021-06-10 05:40:55\n",
            "rajeev_mp\n",
            "Bengaluru, Karnataka\n",
            "Women given special priority under PM Awas Yojana to ensure there is a roof over their head.\n",
            "\n",
            "✅50 Lakhs houses sanc… https://t.co/FxL55PyR35\n",
            "2021-06-10 05:40:06\n",
            "rajeev_mp\n",
            "Bengaluru, Karnataka\n",
            "One Stop Centers helping distressed women affected by violence.\n",
            "\n",
            "#NariShakti4NewIndia  #7YearsOfSeva https://t.co/9QHlDLDuEL\n",
            "2021-06-10 05:36:02\n",
            "rajeev_mp\n",
            "Bengaluru, Karnataka\n"
          ],
          "name": "stdout"
        }
      ]
    },
    {
      "cell_type": "code",
      "metadata": {
        "colab": {
          "base_uri": "https://localhost:8080/"
        },
        "id": "fuye6cAY143K",
        "outputId": "c3e9dac4-ac02-493f-acd8-3a9eebd1f3b4"
      },
      "source": [
        "# Creating the API object while passing in auth information\n",
        "api = tweepy.API(auth)\n",
        "\n",
        "# The Twitter user who we want to get tweets from\n",
        "name = \"NatGeo\"\n",
        "# Number of tweets to pull\n",
        "tweetCount = 12\n",
        "\n",
        "# Calling the user_timeline function with our parameters\n",
        "results = api.user_timeline(id=name, count=tweetCount)\n",
        "\n",
        "# foreach through all tweets pulled\n",
        "for tweet in results:\n",
        "   # printing the text stored inside the tweet object\n",
        "   print (tweet.text)"
      ],
      "execution_count": 4,
      "outputs": [
        {
          "output_type": "stream",
          "text": [
            "Whatever travel looks like to you, these photos reveal the dazzling variety of ways humans move through the world—a… https://t.co/CDzmmmtiac\n",
            "Looking past the \"ick factor,\" parasites can be just as important as more charismatic animals—and many may be on th… https://t.co/6NMs85EIqp\n",
            "After more than a year without income from tourism, Thailand's 3,800 captive elephants and their owners are in cris… https://t.co/8V0mJi2oKK\n",
            "Eliciting both neutralizing antibodies and a T-cell response, the Johnson &amp; Johnson vaccine was shown to protect pe… https://t.co/ktYqq8nzdw\n",
            "Need a break? Turn your sound on for some fantastic commentary https://t.co/pO3BhZUesa\n",
            "In five to 10 years, ultra fast-charging EV batteries might be possible, but there are still science and engineerin… https://t.co/7q3Y3wmChj\n",
            "Geologic clues from our planet’s distant past reveal that today’s coastlines won’t last forever—but others will ari… https://t.co/iBGI83F5hf\n",
            "Here's more on how to watch, in person or virtually: https://t.co/YmkOwGxAqM\n",
            "“The essential things are to be on time, make sure you have a good line of sight to the sun, and be serious about e… https://t.co/7RDE3uQTxd\n",
            "For many observers in the northeastern United States, the sun will already be partially eclipsed as it appears abov… https://t.co/X8o1o3GZaP\n",
            "On June 10, millions of people across large parts of the Northern Hemisphere will be able to witness the majesty of… https://t.co/eIeao0FUOz\n",
            "Globally, there are seven definitions of what is considered a plastic bag—and that complicates efforts to reduce th… https://t.co/TT3j3hAyIE\n"
          ],
          "name": "stdout"
        }
      ]
    },
    {
      "cell_type": "code",
      "metadata": {
        "colab": {
          "base_uri": "https://localhost:8080/"
        },
        "id": "zv-oTgRj2Goo",
        "outputId": "acb3546a-e242-4ac0-8080-8e4c0a628d8a"
      },
      "source": [
        "api = tweepy.API(auth)\n",
        "\n",
        "# The search term you want to find\n",
        "query = \"Wix.com\"\n",
        "# Language code (follows ISO 639-1 standards)\n",
        "language = \"en\"\n",
        "\n",
        "# Calling the user_timeline function with our parameters\n",
        "results = api.search(q=query, lang=language)\n",
        "\n",
        "# foreach through all tweets pulled\n",
        "for tweet in results:\n",
        "   # printing the text stored inside the tweet object\n",
        "   print (tweet.user.screen_name,\"Tweeted:\",tweet.text)"
      ],
      "execution_count": 5,
      "outputs": [
        {
          "output_type": "stream",
          "text": [
            "WixHelp Tweeted: @The_Mancho Hi there, we're sorry to hear you are having difficulties in reaching our team. You can contact them di… https://t.co/zdSqPQETo7\n",
            "ArtistsUnitedWW Tweeted: #MusicLov3rz Magazine May 2021 is here! Featuring @rossapostle on the cover + so many amazing artists who are… https://t.co/MyP8htNUhY\n",
            "TeamMusicLov3rz Tweeted: *New #RadioShows &amp; So Much More! #MusicLov3rz Update 1/13/2021! https://t.co/2OH8l6VDUk #Lov3YouAll… https://t.co/ACIIzGyjkd\n",
            "TeamMusicLov3rz Tweeted: #MusicLov3rz Magazine May 2021 is here! Featuring @rossapostle on the cover + so many amazing artists who are… https://t.co/ftv4W3jncY\n",
            "ShippingNavio Tweeted: NAVIO NEWSLETTER - JUNE EDITION\n",
            "VOLUME #9\n",
            "Welcome You to Our Monthly Newslette\n",
            "Freight Forwarders' Risk… https://t.co/Cux0DbOJYC\n",
            "MusicLov3rzLove Tweeted: #MusicLov3rz Magazine May 2021 is here! Featuring @rossapostle on the cover + so many amazing artists who are… https://t.co/7NGMRKHmA2\n",
            "chinbrookmeadow Tweeted: RT @Liveable_SE12: This is fantastic news and a massively welcome return of a much needed community asset.  https://t.co/Ch4MIjFTtn\n",
            "BANANAS1968 Tweeted: RT @Towheehillart: I love to see small wildflowers cropping up in the warm weather! Use the link for a better look.\n",
            "\n",
            "https://t.co/613VqIKbp…\n",
            "InliightSociety Tweeted: https://t.co/gJYGs5qnXx\n",
            "While you're at it lol here are some topics to get you started.\n",
            "InliightSociety Tweeted: https://t.co/eBoFUoVtiW An interesting article from WIX that would help you building a website and finally getting that blog started.\n",
            "MusicLov3rzRdo Tweeted: #MusicLov3rz Magazine May 2021 is here! Featuring @rossapostle on the cover + so many amazing artists who are… https://t.co/iRvRAMHJUe\n"
          ],
          "name": "stdout"
        }
      ]
    }
  ]
}